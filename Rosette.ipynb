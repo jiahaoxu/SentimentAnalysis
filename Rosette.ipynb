{
 "cells": [
  {
   "cell_type": "code",
   "execution_count": 1,
   "metadata": {},
   "outputs": [],
   "source": [
    "import pandas as pd\n",
    "import numpy as np\n",
    "from rosette.api import API, DocumentParameters, RosetteException"
   ]
  },
  {
   "cell_type": "code",
   "execution_count": 2,
   "metadata": {},
   "outputs": [],
   "source": [
    "df = pd.read_csv('Verbatims_data2.csv')"
   ]
  },
  {
   "cell_type": "code",
   "execution_count": 3,
   "metadata": {},
   "outputs": [
    {
     "data": {
      "text/html": [
       "<div>\n",
       "<style scoped>\n",
       "    .dataframe tbody tr th:only-of-type {\n",
       "        vertical-align: middle;\n",
       "    }\n",
       "\n",
       "    .dataframe tbody tr th {\n",
       "        vertical-align: top;\n",
       "    }\n",
       "\n",
       "    .dataframe thead th {\n",
       "        text-align: right;\n",
       "    }\n",
       "</style>\n",
       "<table border=\"1\" class=\"dataframe\">\n",
       "  <thead>\n",
       "    <tr style=\"text-align: right;\">\n",
       "      <th></th>\n",
       "      <th>BU</th>\n",
       "      <th>OII Related</th>\n",
       "      <th>RateOfOII</th>\n",
       "      <th>Login Related Flag</th>\n",
       "      <th>Number of Records</th>\n",
       "      <th>OFFERING</th>\n",
       "      <th>RATING</th>\n",
       "      <th>REVIEW_TEXT</th>\n",
       "      <th>app_identifier</th>\n",
       "      <th>app_store</th>\n",
       "      <th>bank_flag</th>\n",
       "      <th>count</th>\n",
       "      <th>review_date</th>\n",
       "      <th>score</th>\n",
       "      <th>tag</th>\n",
       "      <th>title</th>\n",
       "    </tr>\n",
       "  </thead>\n",
       "  <tbody>\n",
       "    <tr>\n",
       "      <th>0</th>\n",
       "      <td>CTG</td>\n",
       "      <td>0</td>\n",
       "      <td>0</td>\n",
       "      <td>False</td>\n",
       "      <td>1</td>\n",
       "      <td>My Refund</td>\n",
       "      <td>5</td>\n",
       "      <td>Great app</td>\n",
       "      <td>com.intuit.mobile.mytaxrefund</td>\n",
       "      <td>Google</td>\n",
       "      <td>0</td>\n",
       "      <td>NaN</td>\n",
       "      <td>2/10/15</td>\n",
       "      <td>0</td>\n",
       "      <td>RATING ROLLUP</td>\n",
       "      <td>Great</td>\n",
       "    </tr>\n",
       "    <tr>\n",
       "      <th>1</th>\n",
       "      <td>CTG</td>\n",
       "      <td>0</td>\n",
       "      <td>0</td>\n",
       "      <td>False</td>\n",
       "      <td>1</td>\n",
       "      <td>TurboTax</td>\n",
       "      <td>5</td>\n",
       "      <td>Great</td>\n",
       "      <td>com.intuit.turbotax</td>\n",
       "      <td>Apple</td>\n",
       "      <td>0</td>\n",
       "      <td>NaN</td>\n",
       "      <td>1/17/17</td>\n",
       "      <td>0</td>\n",
       "      <td>RATING ROLLUP</td>\n",
       "      <td>Great</td>\n",
       "    </tr>\n",
       "    <tr>\n",
       "      <th>2</th>\n",
       "      <td>SBG</td>\n",
       "      <td>0</td>\n",
       "      <td>0</td>\n",
       "      <td>False</td>\n",
       "      <td>1</td>\n",
       "      <td>QB Self Employed</td>\n",
       "      <td>3</td>\n",
       "      <td>Please include a way to clear all notification...</td>\n",
       "      <td>com.intuit.qbse</td>\n",
       "      <td>Apple</td>\n",
       "      <td>0</td>\n",
       "      <td>NaN</td>\n",
       "      <td>6/27/17</td>\n",
       "      <td>0</td>\n",
       "      <td>RATING ROLLUP</td>\n",
       "      <td>Notifications!!!</td>\n",
       "    </tr>\n",
       "    <tr>\n",
       "      <th>3</th>\n",
       "      <td>CTG</td>\n",
       "      <td>0</td>\n",
       "      <td>0</td>\n",
       "      <td>False</td>\n",
       "      <td>1</td>\n",
       "      <td>TurboTax</td>\n",
       "      <td>1</td>\n",
       "      <td>I have been working on a efile for 9 days  th...</td>\n",
       "      <td>com.intuit.turbotax.mobile</td>\n",
       "      <td>Google</td>\n",
       "      <td>0</td>\n",
       "      <td>NaN</td>\n",
       "      <td>3/8/16</td>\n",
       "      <td>0</td>\n",
       "      <td>RATING ROLLUP</td>\n",
       "      <td>None</td>\n",
       "    </tr>\n",
       "    <tr>\n",
       "      <th>4</th>\n",
       "      <td>CTG</td>\n",
       "      <td>0</td>\n",
       "      <td>0</td>\n",
       "      <td>False</td>\n",
       "      <td>1</td>\n",
       "      <td>TurboTax</td>\n",
       "      <td>1</td>\n",
       "      <td>It now forces you to pay 30 dollars if you wa...</td>\n",
       "      <td>com.intuit.turbotax.mobile</td>\n",
       "      <td>Google</td>\n",
       "      <td>0</td>\n",
       "      <td>NaN</td>\n",
       "      <td>1/20/17</td>\n",
       "      <td>0</td>\n",
       "      <td>RATING ROLLUP</td>\n",
       "      <td>None</td>\n",
       "    </tr>\n",
       "  </tbody>\n",
       "</table>\n",
       "</div>"
      ],
      "text/plain": [
       "    BU  OII Related  RateOfOII  Login Related Flag  Number of Records  \\\n",
       "0  CTG            0          0               False                  1   \n",
       "1  CTG            0          0               False                  1   \n",
       "2  SBG            0          0               False                  1   \n",
       "3  CTG            0          0               False                  1   \n",
       "4  CTG            0          0               False                  1   \n",
       "\n",
       "           OFFERING  RATING  \\\n",
       "0         My Refund       5   \n",
       "1          TurboTax       5   \n",
       "2  QB Self Employed       3   \n",
       "3          TurboTax       1   \n",
       "4          TurboTax       1   \n",
       "\n",
       "                                         REVIEW_TEXT  \\\n",
       "0                                         Great app    \n",
       "1                                              Great   \n",
       "2  Please include a way to clear all notification...   \n",
       "3   I have been working on a efile for 9 days  th...   \n",
       "4   It now forces you to pay 30 dollars if you wa...   \n",
       "\n",
       "                  app_identifier app_store  bank_flag  count review_date  \\\n",
       "0  com.intuit.mobile.mytaxrefund    Google          0    NaN     2/10/15   \n",
       "1            com.intuit.turbotax     Apple          0    NaN     1/17/17   \n",
       "2                com.intuit.qbse     Apple          0    NaN     6/27/17   \n",
       "3     com.intuit.turbotax.mobile    Google          0    NaN      3/8/16   \n",
       "4     com.intuit.turbotax.mobile    Google          0    NaN     1/20/17   \n",
       "\n",
       "   score            tag             title  \n",
       "0      0  RATING ROLLUP             Great  \n",
       "1      0  RATING ROLLUP             Great  \n",
       "2      0  RATING ROLLUP  Notifications!!!  \n",
       "3      0  RATING ROLLUP              None  \n",
       "4      0  RATING ROLLUP              None  "
      ]
     },
     "execution_count": 3,
     "metadata": {},
     "output_type": "execute_result"
    }
   ],
   "source": [
    "df.head()"
   ]
  },
  {
   "cell_type": "code",
   "execution_count": 4,
   "metadata": {},
   "outputs": [
    {
     "data": {
      "text/html": [
       "<div>\n",
       "<style scoped>\n",
       "    .dataframe tbody tr th:only-of-type {\n",
       "        vertical-align: middle;\n",
       "    }\n",
       "\n",
       "    .dataframe tbody tr th {\n",
       "        vertical-align: top;\n",
       "    }\n",
       "\n",
       "    .dataframe thead th {\n",
       "        text-align: right;\n",
       "    }\n",
       "</style>\n",
       "<table border=\"1\" class=\"dataframe\">\n",
       "  <thead>\n",
       "    <tr style=\"text-align: right;\">\n",
       "      <th></th>\n",
       "      <th>review_text</th>\n",
       "      <th>title</th>\n",
       "      <th>rating</th>\n",
       "    </tr>\n",
       "  </thead>\n",
       "  <tbody>\n",
       "    <tr>\n",
       "      <th>0</th>\n",
       "      <td>Great app</td>\n",
       "      <td>Great</td>\n",
       "      <td>5</td>\n",
       "    </tr>\n",
       "    <tr>\n",
       "      <th>1</th>\n",
       "      <td>Great</td>\n",
       "      <td>Great</td>\n",
       "      <td>5</td>\n",
       "    </tr>\n",
       "    <tr>\n",
       "      <th>2</th>\n",
       "      <td>Please include a way to clear all notification...</td>\n",
       "      <td>Notifications!!!</td>\n",
       "      <td>3</td>\n",
       "    </tr>\n",
       "    <tr>\n",
       "      <th>3</th>\n",
       "      <td>I have been working on a efile for 9 days  th...</td>\n",
       "      <td>None</td>\n",
       "      <td>1</td>\n",
       "    </tr>\n",
       "    <tr>\n",
       "      <th>4</th>\n",
       "      <td>It now forces you to pay 30 dollars if you wa...</td>\n",
       "      <td>None</td>\n",
       "      <td>1</td>\n",
       "    </tr>\n",
       "  </tbody>\n",
       "</table>\n",
       "</div>"
      ],
      "text/plain": [
       "                                         review_text             title  rating\n",
       "0                                         Great app              Great       5\n",
       "1                                              Great             Great       5\n",
       "2  Please include a way to clear all notification...  Notifications!!!       3\n",
       "3   I have been working on a efile for 9 days  th...              None       1\n",
       "4   It now forces you to pay 30 dollars if you wa...              None       1"
      ]
     },
     "execution_count": 4,
     "metadata": {},
     "output_type": "execute_result"
    }
   ],
   "source": [
    "reviews_df = df[['REVIEW_TEXT', 'title', 'RATING']].copy()\n",
    "reviews_df.columns = ['review_text', 'title', 'rating']\n",
    "reviews_df.head()"
   ]
  },
  {
   "cell_type": "code",
   "execution_count": 48,
   "metadata": {},
   "outputs": [],
   "source": [
    "def getSentiment(text, key='bb15d9789cf87b0855846ce92fe93680', alt_url='https://api.rosette.com/rest/v1/'):\n",
    "    \"\"\"\n",
    "    @:type text: strig\n",
    "    @:param text: the review text needed to do the sentiment analysis\n",
    "    @:type key: string\n",
    "    @:param key: Rosette API key\n",
    "    @:type return: dict\n",
    "    @:param return: the sentiment for the corresponding text\n",
    "    \"\"\"\n",
    "    # Create an API instance\n",
    "    api = API(user_key=key, service_url=alt_url)\n",
    "    \n",
    "    params = DocumentParameters()\n",
    "    params[\"language\"] = \"eng\"\n",
    "    \n",
    "    message = text.strip()\n",
    "    if message == '':\n",
    "        message = 'N/A'\n",
    "    params['content'] = message\n",
    "    \n",
    "    try:\n",
    "        result = api.sentiment(params)\n",
    "        return result['document']\n",
    "    except RosetteException as exception:\n",
    "        print(text)\n",
    "        print(exception)\n",
    "        return None"
   ]
  },
  {
   "cell_type": "code",
   "execution_count": 49,
   "metadata": {},
   "outputs": [
    {
     "name": "stdout",
     "output_type": "stream",
     "text": [
      "Crashing issue seems to be fixed. Look forward to seeing how it functions from now on.(2 days ago downloaded app, spent a couple hours sorting out my personal vs business exps, been trying all day to open app but it crashes with a second or two on opening it. I’m sure it would be great if it worked lol)\n",
      "u'forbidden': you have either provided an invalid API key, or are not authorized to call the endpoint, or have exceeded the daily or monthly API call limits:\n",
      "  https://api.rosette.com/rest/v1/sentiment\n"
     ]
    },
    {
     "ename": "TypeError",
     "evalue": "'NoneType' object has no attribute '__getitem__'",
     "output_type": "error",
     "traceback": [
      "\u001b[0;31m---------------------------------------------------------------------------\u001b[0m",
      "\u001b[0;31mTypeError\u001b[0m                                 Traceback (most recent call last)",
      "\u001b[0;32m<ipython-input-49-84481c372898>\u001b[0m in \u001b[0;36m<module>\u001b[0;34m()\u001b[0m\n\u001b[0;32m----> 1\u001b[0;31m \u001b[0mreviews_df\u001b[0m\u001b[0;34m[\u001b[0m\u001b[0;34m'text_sentiment'\u001b[0m\u001b[0;34m]\u001b[0m \u001b[0;34m=\u001b[0m \u001b[0mreviews_df\u001b[0m\u001b[0;34m[\u001b[0m\u001b[0;34m'review_text'\u001b[0m\u001b[0;34m]\u001b[0m\u001b[0;34m.\u001b[0m\u001b[0mapply\u001b[0m\u001b[0;34m(\u001b[0m\u001b[0;32mlambda\u001b[0m \u001b[0mtext\u001b[0m\u001b[0;34m:\u001b[0m \u001b[0mgetSentiment\u001b[0m\u001b[0;34m(\u001b[0m\u001b[0mtext\u001b[0m\u001b[0;34m)\u001b[0m\u001b[0;34m[\u001b[0m\u001b[0;34m'label'\u001b[0m\u001b[0;34m]\u001b[0m\u001b[0;34m)\u001b[0m\u001b[0;34m\u001b[0m\u001b[0m\n\u001b[0m",
      "\u001b[0;32m/anaconda2/lib/python2.7/site-packages/pandas/core/series.pyc\u001b[0m in \u001b[0;36mapply\u001b[0;34m(self, func, convert_dtype, args, **kwds)\u001b[0m\n\u001b[1;32m   3190\u001b[0m             \u001b[0;32melse\u001b[0m\u001b[0;34m:\u001b[0m\u001b[0;34m\u001b[0m\u001b[0m\n\u001b[1;32m   3191\u001b[0m                 \u001b[0mvalues\u001b[0m \u001b[0;34m=\u001b[0m \u001b[0mself\u001b[0m\u001b[0;34m.\u001b[0m\u001b[0mastype\u001b[0m\u001b[0;34m(\u001b[0m\u001b[0mobject\u001b[0m\u001b[0;34m)\u001b[0m\u001b[0;34m.\u001b[0m\u001b[0mvalues\u001b[0m\u001b[0;34m\u001b[0m\u001b[0m\n\u001b[0;32m-> 3192\u001b[0;31m                 \u001b[0mmapped\u001b[0m \u001b[0;34m=\u001b[0m \u001b[0mlib\u001b[0m\u001b[0;34m.\u001b[0m\u001b[0mmap_infer\u001b[0m\u001b[0;34m(\u001b[0m\u001b[0mvalues\u001b[0m\u001b[0;34m,\u001b[0m \u001b[0mf\u001b[0m\u001b[0;34m,\u001b[0m \u001b[0mconvert\u001b[0m\u001b[0;34m=\u001b[0m\u001b[0mconvert_dtype\u001b[0m\u001b[0;34m)\u001b[0m\u001b[0;34m\u001b[0m\u001b[0m\n\u001b[0m\u001b[1;32m   3193\u001b[0m \u001b[0;34m\u001b[0m\u001b[0m\n\u001b[1;32m   3194\u001b[0m         \u001b[0;32mif\u001b[0m \u001b[0mlen\u001b[0m\u001b[0;34m(\u001b[0m\u001b[0mmapped\u001b[0m\u001b[0;34m)\u001b[0m \u001b[0;32mand\u001b[0m \u001b[0misinstance\u001b[0m\u001b[0;34m(\u001b[0m\u001b[0mmapped\u001b[0m\u001b[0;34m[\u001b[0m\u001b[0;36m0\u001b[0m\u001b[0;34m]\u001b[0m\u001b[0;34m,\u001b[0m \u001b[0mSeries\u001b[0m\u001b[0;34m)\u001b[0m\u001b[0;34m:\u001b[0m\u001b[0;34m\u001b[0m\u001b[0m\n",
      "\u001b[0;32mpandas/_libs/src/inference.pyx\u001b[0m in \u001b[0;36mpandas._libs.lib.map_infer\u001b[0;34m()\u001b[0m\n",
      "\u001b[0;32m<ipython-input-49-84481c372898>\u001b[0m in \u001b[0;36m<lambda>\u001b[0;34m(text)\u001b[0m\n\u001b[0;32m----> 1\u001b[0;31m \u001b[0mreviews_df\u001b[0m\u001b[0;34m[\u001b[0m\u001b[0;34m'text_sentiment'\u001b[0m\u001b[0;34m]\u001b[0m \u001b[0;34m=\u001b[0m \u001b[0mreviews_df\u001b[0m\u001b[0;34m[\u001b[0m\u001b[0;34m'review_text'\u001b[0m\u001b[0;34m]\u001b[0m\u001b[0;34m.\u001b[0m\u001b[0mapply\u001b[0m\u001b[0;34m(\u001b[0m\u001b[0;32mlambda\u001b[0m \u001b[0mtext\u001b[0m\u001b[0;34m:\u001b[0m \u001b[0mgetSentiment\u001b[0m\u001b[0;34m(\u001b[0m\u001b[0mtext\u001b[0m\u001b[0;34m)\u001b[0m\u001b[0;34m[\u001b[0m\u001b[0;34m'label'\u001b[0m\u001b[0;34m]\u001b[0m\u001b[0;34m)\u001b[0m\u001b[0;34m\u001b[0m\u001b[0m\n\u001b[0m",
      "\u001b[0;31mTypeError\u001b[0m: 'NoneType' object has no attribute '__getitem__'"
     ]
    }
   ],
   "source": [
    "reviews_df['text_sentiment'] = reviews_df['review_text'].apply(lambda text: getSentiment(text)['label'])"
   ]
  },
  {
   "cell_type": "code",
   "execution_count": 41,
   "metadata": {},
   "outputs": [
    {
     "data": {
      "text/plain": [
       "{u'confidence': 0.53782728, u'label': u'neu'}"
      ]
     },
     "execution_count": 41,
     "metadata": {},
     "output_type": "execute_result"
    }
   ],
   "source": [
    "getSentiment(text='N/A')"
   ]
  },
  {
   "cell_type": "code",
   "execution_count": 29,
   "metadata": {},
   "outputs": [
    {
     "data": {
      "text/plain": [
       "{u'document': {u'confidence': 0.60175898, u'label': u'neu'},\n",
       " u'entities': [],\n",
       " 'responseHeaders': {'Connection': 'keep-alive',\n",
       "  'Content-Length': '66',\n",
       "  'Content-Type': 'application/json',\n",
       "  'Date': 'Wed, 11 Jul 2018 23:02:27 GMT',\n",
       "  'Server': 'openresty',\n",
       "  'Strict-Transport-Security': 'max-age=63072000; includeSubDomains; preload',\n",
       "  'X-RosetteAPI-App-Id': '1409617811847',\n",
       "  'X-RosetteAPI-Concurrency': '2',\n",
       "  'X-RosetteAPI-ProcessedLanguage': 'eng',\n",
       "  'X-RosetteAPI-Request-Id': '9cf90f3dd85595f8251977752c413c9f'}}"
      ]
     },
     "execution_count": 29,
     "metadata": {},
     "output_type": "execute_result"
    }
   ],
   "source": [
    "result"
   ]
  },
  {
   "cell_type": "code",
   "execution_count": null,
   "metadata": {},
   "outputs": [],
   "source": []
  }
 ],
 "metadata": {
  "kernelspec": {
   "display_name": "Python 2",
   "language": "python",
   "name": "python2"
  },
  "language_info": {
   "codemirror_mode": {
    "name": "ipython",
    "version": 2
   },
   "file_extension": ".py",
   "mimetype": "text/x-python",
   "name": "python",
   "nbconvert_exporter": "python",
   "pygments_lexer": "ipython2",
   "version": "2.7.15"
  }
 },
 "nbformat": 4,
 "nbformat_minor": 2
}
